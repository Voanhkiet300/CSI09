{
 "cells": [
  {
   "cell_type": "markdown",
   "metadata": {
    "id": "NeO51Agb83Tz"
   },
   "source": [
    "## <center>Computer Science Intensive Course - MindX</center>\n",
    "![](./assets/logo.png)\n",
    "# <center>HOMEWORK 7. THUẬT TOÁN SẮP XẾP (3)</center>"
   ]
  },
  {
   "cell_type": "markdown",
   "metadata": {
    "id": "ZrmfAAgi83UA"
   },
   "source": [
    "## Bài Tập: Sắp Xếp Hoa Theo Giá\n",
    "\n",
    "**Bài toán**: Cho danh sách các loại hoa được bày bán và giá với định dạng như bên dưới, hãy sắp xếp danh sách theo thứ tự giá tăng dần.  \n",
    "Biết danh sách có *0 < n < 10<sup>6</sup>* loại hoa, mỗi loại có giá tiền từ 10.000đ đến 100.000đ. Mỗi giá tiền đều chẵn theo nghìn đồng (không có giá tiền nào lẻ 500đ hoặc 200đ).  "
   ]
  },
  {
   "cell_type": "code",
   "execution_count": 3,
   "metadata": {
    "id": "mtcaoT3c83UD"
   },
   "outputs": [
    {
     "data": {
      "text/plain": [
       "[{'name': 'Red Rose', 'price': 10000},\n",
       " {'name': 'Chrysanthemum', 'price': 10000},\n",
       " {'name': 'Lily', 'price': 12000},\n",
       " {'name': 'Daisy', 'price': 12000},\n",
       " {'name': 'Blue Rose', 'price': 20000},\n",
       " {'name': 'Tulip', 'price': 20000},\n",
       " {'name': 'Sunflower', 'price': 20000},\n",
       " {'name': 'Orchid', 'price': 100000}]"
      ]
     },
     "execution_count": 3,
     "metadata": {},
     "output_type": "execute_result"
    }
   ],
   "source": [
    "flower_prices = [\n",
    "    {'name': 'Red Rose', 'price': 10000},\n",
    "    {'name': 'Lily', 'price': 12000},\n",
    "    {'name': 'Orchid', 'price': 100000},\n",
    "    {'name': 'Blue Rose', 'price': 20000},\n",
    "    {'name': 'Daisy', 'price': 12000},\n",
    "    {'name': 'Tulip', 'price': 20000},\n",
    "    {'name': 'Chrysanthemum', 'price': 10000},\n",
    "    {'name': 'Sunflower', 'price': 20000}\n",
    "]\n",
    "# Sort the list of flowers by price in descending order\n",
    "flower_prices.sort(key=lambda x: x['price'])\n",
    "flower_prices"
   ]
  }
 ],
 "metadata": {
  "colab": {
   "provenance": []
  },
  "kernelspec": {
   "display_name": "Python 3",
   "language": "python",
   "name": "python3"
  },
  "language_info": {
   "codemirror_mode": {
    "name": "ipython",
    "version": 3
   },
   "file_extension": ".py",
   "mimetype": "text/x-python",
   "name": "python",
   "nbconvert_exporter": "python",
   "pygments_lexer": "ipython3",
   "version": "3.13.0"
  }
 },
 "nbformat": 4,
 "nbformat_minor": 0
}
