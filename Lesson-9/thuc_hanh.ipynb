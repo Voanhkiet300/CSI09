{
 "cells": [
  {
   "cell_type": "code",
   "execution_count": 15,
   "metadata": {},
   "outputs": [],
   "source": [
    "from collections import deque\n",
    "from threading import Thread, Lock\n",
    "from time import sleep"
   ]
  },
  {
   "cell_type": "markdown",
   "metadata": {},
   "source": [
    "# Bai 1: kiem tra du ngoac trong bieu thuc"
   ]
  },
  {
   "cell_type": "code",
   "execution_count": null,
   "metadata": {},
   "outputs": [],
   "source": [
    "def is_valid(sequense):\n",
    "    # kiem tra ngoai le\n",
    "    if len(sequense) == 0:\n",
    "        return False\n",
    "    \n",
    "    # khai bao 1 stack de giu cac ngoac da viet\n",
    "    stack = deque()\n",
    "    # duyet qua tung phan tu trong vong lap\n",
    "    for par in sequense:\n",
    "        if par == '(':\n",
    "            stack.append(par)\n",
    "        elif par == ')':\n",
    "            if len(stack) > 0:\n",
    "                stack.pop()\n",
    "            else:\n",
    "                return False\n",
    "    return len(stack) == 0"
   ]
  },
  {
   "cell_type": "code",
   "execution_count": 14,
   "metadata": {},
   "outputs": [
    {
     "name": "stdout",
     "output_type": "stream",
     "text": [
      "True\n",
      "False\n"
     ]
    }
   ],
   "source": [
    "print(is_valid(\"(())\"))\n",
    "print(is_valid(\"(1+1) * (4//2\"))"
   ]
  },
  {
   "cell_type": "markdown",
   "metadata": {},
   "source": [
    "# Bai 2: to chuc hang doi"
   ]
  },
  {
   "cell_type": "code",
   "execution_count": 18,
   "metadata": {},
   "outputs": [],
   "source": [
    "class Customer:\n",
    "    def __init__(self, order_name, order_id):\n",
    "        self.order_name = order_name\n",
    "        self.order_id = order_id\n",
    "\n",
    "    def create_order(self):\n",
    "        print(f\"Order #{self.order_id}: {self.order_name}\")\n",
    "\n",
    "\n"
   ]
  },
  {
   "cell_type": "code",
   "execution_count": 20,
   "metadata": {},
   "outputs": [],
   "source": [
    "class cashier:\n",
    "    def __init__(self):\n",
    "        self.order_queue = deque()\n",
    "        self.order_count = 0\n",
    "\n",
    "    def set_chief(self, chief):\n",
    "        self.chief = chief\n",
    "    \n",
    "    def recieve_order(self, order_name):\n",
    "        self.order_name = order_name\n",
    "        if not self.chief.recieve_request(self.order_count, order_name):\n",
    "            self.order_queue.append((self.order_count, order_name))\n",
    "        return self.order_count\n",
    "    \n",
    "    def serve_order(self):\n",
    "        print(f\"==> Order #{order[0]}: {order[1]}\")\n",
    "\n",
    "        if len(self.order_queue) > 0 and self.recieve_request((self.order_queue[0])):\n",
    "            self.order_queue.popleft() # da phuc vu\n",
    "    \n",
    "\n"
   ]
  },
  {
   "cell_type": "code",
   "execution_count": 21,
   "metadata": {},
   "outputs": [],
   "source": [
    "class Chief:\n",
    "    def __init__(self, Cashier):\n",
    "        self.__lock = Lock()\n",
    "        self.cashier = cashier\n",
    "\n",
    "    def recieve_request(self, order):\n",
    "        busy = self.__lock.locked()\n",
    "        if not busy:\n",
    "            Thread = Thread(target=self.__make_order, args=(order))\n",
    "            Thread.start()\n",
    "\n",
    "def __make_order(self, order):\n",
    "    self._lock.accquire()\n",
    "    sleep(1)\n",
    "    self.__lock.release()\n",
    "    self.cashier.service_order(order)\n",
    "\n"
   ]
  }
 ],
 "metadata": {
  "kernelspec": {
   "display_name": "Python 3",
   "language": "python",
   "name": "python3"
  },
  "language_info": {
   "codemirror_mode": {
    "name": "ipython",
    "version": 3
   },
   "file_extension": ".py",
   "mimetype": "text/x-python",
   "name": "python",
   "nbconvert_exporter": "python",
   "pygments_lexer": "ipython3",
   "version": "3.13.0"
  }
 },
 "nbformat": 4,
 "nbformat_minor": 2
}
